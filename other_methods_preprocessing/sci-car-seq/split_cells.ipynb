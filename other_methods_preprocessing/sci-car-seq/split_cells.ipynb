{
 "cells": [
  {
   "cell_type": "code",
   "execution_count": 24,
   "metadata": {},
   "outputs": [],
   "source": [
    "import numpy as np\n",
    "import pandas as pd\n",
    "from scipy.io import mmread"
   ]
  },
  {
   "cell_type": "code",
   "execution_count": 21,
   "metadata": {},
   "outputs": [
    {
     "name": "stdout",
     "output_type": "stream",
     "text": [
      "sample,source,group,experiment\r\n",
      "sci-RNA-A-071.AGGTCTATGG,Mouse,293T_3T3,co_assay\r\n",
      "sci-RNA-A-071.GCGGAGTCGA,Human,A549_3h,co_assay\r\n",
      "\r\n",
      "gzip: stdout: Broken pipe\r\n"
     ]
    }
   ],
   "source": [
    "!zcat tar_file/GSM3271041_ATAC_sciCAR_A549_cell.txt.gz | head -3"
   ]
  },
  {
   "cell_type": "code",
   "execution_count": 22,
   "metadata": {},
   "outputs": [
    {
     "name": "stdout",
     "output_type": "stream",
     "text": [
      "sample,cell_name,experiment,treatment_time\r\n",
      "sci-RNA-A-001.CGCCAGGCAT,293T,coassay,NA\r\n",
      "sci-RNA-A-001.AAGTACGTTA,A549,coassay,3\r\n",
      "\r\n",
      "gzip: stdout: Broken pipe\r\n"
     ]
    }
   ],
   "source": [
    "!zcat tar_file/GSM3271040_RNA_sciCAR_A549_cell.txt.gz | head -3"
   ]
  },
  {
   "cell_type": "code",
   "execution_count": 5,
   "metadata": {},
   "outputs": [],
   "source": [
    "atac_info = pd.read_csv('ATAC/filtered/barcodes.tsv', header=None,\n",
    "                        names=['sample', 'source', 'group', 'experiment'],\n",
    "                        index_col='sample')\n",
    "rna_info = pd.read_csv('RNA/filtered/barcodes.tsv', header=None,\n",
    "                       names=['sample', 'cell_name', 'experiment', 'treatment_time'],\n",
    "                       index_col='sample')"
   ]
  },
  {
   "cell_type": "code",
   "execution_count": 6,
   "metadata": {},
   "outputs": [
    {
     "data": {
      "text/html": [
       "<div>\n",
       "<style scoped>\n",
       "    .dataframe tbody tr th:only-of-type {\n",
       "        vertical-align: middle;\n",
       "    }\n",
       "\n",
       "    .dataframe tbody tr th {\n",
       "        vertical-align: top;\n",
       "    }\n",
       "\n",
       "    .dataframe thead th {\n",
       "        text-align: right;\n",
       "    }\n",
       "</style>\n",
       "<table border=\"1\" class=\"dataframe\">\n",
       "  <thead>\n",
       "    <tr style=\"text-align: right;\">\n",
       "      <th></th>\n",
       "      <th>source</th>\n",
       "      <th>group</th>\n",
       "      <th>experiment</th>\n",
       "    </tr>\n",
       "    <tr>\n",
       "      <th>sample</th>\n",
       "      <th></th>\n",
       "      <th></th>\n",
       "      <th></th>\n",
       "    </tr>\n",
       "  </thead>\n",
       "  <tbody>\n",
       "    <tr>\n",
       "      <th>sci-RNA-A-071.GCGGAGTCGA</th>\n",
       "      <td>Human</td>\n",
       "      <td>A549_3h</td>\n",
       "      <td>co_assay</td>\n",
       "    </tr>\n",
       "    <tr>\n",
       "      <th>sci-RNA-A-071.CTGAAGAGAC</th>\n",
       "      <td>Human</td>\n",
       "      <td>A549_1h</td>\n",
       "      <td>co_assay</td>\n",
       "    </tr>\n",
       "  </tbody>\n",
       "</table>\n",
       "</div>"
      ],
      "text/plain": [
       "                         source    group experiment\n",
       "sample                                             \n",
       "sci-RNA-A-071.GCGGAGTCGA  Human  A549_3h   co_assay\n",
       "sci-RNA-A-071.CTGAAGAGAC  Human  A549_1h   co_assay"
      ]
     },
     "execution_count": 6,
     "metadata": {},
     "output_type": "execute_result"
    }
   ],
   "source": [
    "atac_info.head(2)"
   ]
  },
  {
   "cell_type": "code",
   "execution_count": 7,
   "metadata": {},
   "outputs": [
    {
     "data": {
      "text/html": [
       "<div>\n",
       "<style scoped>\n",
       "    .dataframe tbody tr th:only-of-type {\n",
       "        vertical-align: middle;\n",
       "    }\n",
       "\n",
       "    .dataframe tbody tr th {\n",
       "        vertical-align: top;\n",
       "    }\n",
       "\n",
       "    .dataframe thead th {\n",
       "        text-align: right;\n",
       "    }\n",
       "</style>\n",
       "<table border=\"1\" class=\"dataframe\">\n",
       "  <thead>\n",
       "    <tr style=\"text-align: right;\">\n",
       "      <th></th>\n",
       "      <th>cell_name</th>\n",
       "      <th>experiment</th>\n",
       "      <th>treatment_time</th>\n",
       "    </tr>\n",
       "    <tr>\n",
       "      <th>sample</th>\n",
       "      <th></th>\n",
       "      <th></th>\n",
       "      <th></th>\n",
       "    </tr>\n",
       "  </thead>\n",
       "  <tbody>\n",
       "    <tr>\n",
       "      <th>sci-RNA-A-001.CGCCAGGCAT</th>\n",
       "      <td>293T</td>\n",
       "      <td>coassay</td>\n",
       "      <td>NaN</td>\n",
       "    </tr>\n",
       "    <tr>\n",
       "      <th>sci-RNA-A-001.AAGTACGTTA</th>\n",
       "      <td>A549</td>\n",
       "      <td>coassay</td>\n",
       "      <td>3.0</td>\n",
       "    </tr>\n",
       "  </tbody>\n",
       "</table>\n",
       "</div>"
      ],
      "text/plain": [
       "                         cell_name experiment  treatment_time\n",
       "sample                                                       \n",
       "sci-RNA-A-001.CGCCAGGCAT      293T    coassay             NaN\n",
       "sci-RNA-A-001.AAGTACGTTA      A549    coassay             3.0"
      ]
     },
     "execution_count": 7,
     "metadata": {},
     "output_type": "execute_result"
    }
   ],
   "source": [
    "rna_info.head(2)"
   ]
  },
  {
   "cell_type": "code",
   "execution_count": 15,
   "metadata": {},
   "outputs": [],
   "source": [
    "df = pd.concat([atac_info, rna_info], axis=1, join='inner')"
   ]
  },
  {
   "cell_type": "code",
   "execution_count": 16,
   "metadata": {},
   "outputs": [
    {
     "data": {
      "text/plain": [
       "(2919, 6)"
      ]
     },
     "execution_count": 16,
     "metadata": {},
     "output_type": "execute_result"
    }
   ],
   "source": [
    "df.shape"
   ]
  },
  {
   "cell_type": "code",
   "execution_count": 17,
   "metadata": {},
   "outputs": [
    {
     "data": {
      "text/html": [
       "<div>\n",
       "<style scoped>\n",
       "    .dataframe tbody tr th:only-of-type {\n",
       "        vertical-align: middle;\n",
       "    }\n",
       "\n",
       "    .dataframe tbody tr th {\n",
       "        vertical-align: top;\n",
       "    }\n",
       "\n",
       "    .dataframe thead th {\n",
       "        text-align: right;\n",
       "    }\n",
       "</style>\n",
       "<table border=\"1\" class=\"dataframe\">\n",
       "  <thead>\n",
       "    <tr style=\"text-align: right;\">\n",
       "      <th></th>\n",
       "      <th></th>\n",
       "      <th></th>\n",
       "      <th>experiment</th>\n",
       "      <th>experiment</th>\n",
       "      <th>treatment_time</th>\n",
       "    </tr>\n",
       "    <tr>\n",
       "      <th>source</th>\n",
       "      <th>group</th>\n",
       "      <th>cell_name</th>\n",
       "      <th></th>\n",
       "      <th></th>\n",
       "      <th></th>\n",
       "    </tr>\n",
       "  </thead>\n",
       "  <tbody>\n",
       "    <tr>\n",
       "      <th rowspan=\"6\" valign=\"top\">Human</th>\n",
       "      <th rowspan=\"3\" valign=\"top\">293T_3T3</th>\n",
       "      <th>293T</th>\n",
       "      <td>462</td>\n",
       "      <td>462</td>\n",
       "      <td>0</td>\n",
       "    </tr>\n",
       "    <tr>\n",
       "      <th>3T3</th>\n",
       "      <td>2</td>\n",
       "      <td>2</td>\n",
       "      <td>0</td>\n",
       "    </tr>\n",
       "    <tr>\n",
       "      <th>mixed</th>\n",
       "      <td>13</td>\n",
       "      <td>13</td>\n",
       "      <td>0</td>\n",
       "    </tr>\n",
       "    <tr>\n",
       "      <th>A549_0h</th>\n",
       "      <th>A549</th>\n",
       "      <td>533</td>\n",
       "      <td>533</td>\n",
       "      <td>533</td>\n",
       "    </tr>\n",
       "    <tr>\n",
       "      <th>A549_1h</th>\n",
       "      <th>A549</th>\n",
       "      <td>881</td>\n",
       "      <td>881</td>\n",
       "      <td>881</td>\n",
       "    </tr>\n",
       "    <tr>\n",
       "      <th>A549_3h</th>\n",
       "      <th>A549</th>\n",
       "      <td>978</td>\n",
       "      <td>978</td>\n",
       "      <td>978</td>\n",
       "    </tr>\n",
       "    <tr>\n",
       "      <th rowspan=\"3\" valign=\"top\">Mixed</th>\n",
       "      <th rowspan=\"3\" valign=\"top\">293T_3T3</th>\n",
       "      <th>293T</th>\n",
       "      <td>3</td>\n",
       "      <td>3</td>\n",
       "      <td>0</td>\n",
       "    </tr>\n",
       "    <tr>\n",
       "      <th>3T3</th>\n",
       "      <td>3</td>\n",
       "      <td>3</td>\n",
       "      <td>0</td>\n",
       "    </tr>\n",
       "    <tr>\n",
       "      <th>mixed</th>\n",
       "      <td>44</td>\n",
       "      <td>44</td>\n",
       "      <td>0</td>\n",
       "    </tr>\n",
       "  </tbody>\n",
       "</table>\n",
       "</div>"
      ],
      "text/plain": [
       "                           experiment  experiment  treatment_time\n",
       "source group    cell_name                                        \n",
       "Human  293T_3T3 293T              462         462               0\n",
       "                3T3                 2           2               0\n",
       "                mixed              13          13               0\n",
       "       A549_0h  A549              533         533             533\n",
       "       A549_1h  A549              881         881             881\n",
       "       A549_3h  A549              978         978             978\n",
       "Mixed  293T_3T3 293T                3           3               0\n",
       "                3T3                 3           3               0\n",
       "                mixed              44          44               0"
      ]
     },
     "execution_count": 17,
     "metadata": {},
     "output_type": "execute_result"
    }
   ],
   "source": [
    "df.groupby(['source', 'group', 'cell_name']).count()"
   ]
  },
  {
   "cell_type": "code",
   "execution_count": 25,
   "metadata": {},
   "outputs": [],
   "source": [
    "atac_mtx = mmread('ATAC/filtered/matrix.mtx')\n",
    "rna_mtx = mmread('RNA/filtered/matrix.mtx')\n",
    "\n",
    "atac_count = pd.DataFrame(data=atac_mtx.toarray(), columns=atac_info.index)\n",
    "rna_count = pd.DataFrame(data=rna_mtx.toarray(), columns=rna_info.index)"
   ]
  },
  {
   "cell_type": "code",
   "execution_count": 28,
   "metadata": {},
   "outputs": [],
   "source": [
    "hek_atac = atac_count.loc[:, df.query('cell_name == \"293T\"').index]\n",
    "hek_rna = rna_count.loc[:, df.query('cell_name == \"293T\"').index]"
   ]
  },
  {
   "cell_type": "code",
   "execution_count": 34,
   "metadata": {},
   "outputs": [],
   "source": [
    "!mkdir -p HEK293T/ATAC/filtered HEK293T/RNA/filtered\n",
    "\n",
    "for i,j in zip(['HEK293T/ATAC/filtered', 'HEK293T/RNA/filtered'],\n",
    "               [hek_atac, hek_rna]):\n",
    "    out = pd.concat([j.sum(0), (j > 0).sum(0)], axis=1)\n",
    "    out.columns = ['nCounts', 'nFeatures']\n",
    "    out.to_csv('%s/metrics.csv' % i, index_label='cell')"
   ]
  },
  {
   "cell_type": "code",
   "execution_count": 35,
   "metadata": {},
   "outputs": [
    {
     "name": "stdout",
     "output_type": "stream",
     "text": [
      "412.0 187.0\n",
      "2953.0 1672.0\n"
     ]
    }
   ],
   "source": [
    "for df in [hek_atac, hek_rna]:\n",
    "    print(df.sum(0).median(), (df > 0).sum(0).median())"
   ]
  },
  {
   "cell_type": "code",
   "execution_count": null,
   "metadata": {},
   "outputs": [],
   "source": []
  },
  {
   "cell_type": "markdown",
   "metadata": {},
   "source": [
    "# No NIH3T3 cells after fitering, check original matrix"
   ]
  },
  {
   "cell_type": "code",
   "execution_count": 40,
   "metadata": {},
   "outputs": [
    {
     "data": {
      "text/html": [
       "<div>\n",
       "<style scoped>\n",
       "    .dataframe tbody tr th:only-of-type {\n",
       "        vertical-align: middle;\n",
       "    }\n",
       "\n",
       "    .dataframe tbody tr th {\n",
       "        vertical-align: top;\n",
       "    }\n",
       "\n",
       "    .dataframe thead th {\n",
       "        text-align: right;\n",
       "    }\n",
       "</style>\n",
       "<table border=\"1\" class=\"dataframe\">\n",
       "  <thead>\n",
       "    <tr style=\"text-align: right;\">\n",
       "      <th></th>\n",
       "      <th>source</th>\n",
       "      <th>group</th>\n",
       "      <th>experiment</th>\n",
       "      <th>cell_name</th>\n",
       "      <th>experiment</th>\n",
       "      <th>treatment_time</th>\n",
       "    </tr>\n",
       "    <tr>\n",
       "      <th>sample</th>\n",
       "      <th></th>\n",
       "      <th></th>\n",
       "      <th></th>\n",
       "      <th></th>\n",
       "      <th></th>\n",
       "      <th></th>\n",
       "    </tr>\n",
       "  </thead>\n",
       "  <tbody>\n",
       "    <tr>\n",
       "      <th>sci-RNA-A-071.AGGTCTATGG</th>\n",
       "      <td>Mouse</td>\n",
       "      <td>293T_3T3</td>\n",
       "      <td>co_assay</td>\n",
       "      <td>3T3</td>\n",
       "      <td>coassay</td>\n",
       "      <td>NaN</td>\n",
       "    </tr>\n",
       "    <tr>\n",
       "      <th>sci-RNA-A-071.GCGGAGTCGA</th>\n",
       "      <td>Human</td>\n",
       "      <td>A549_3h</td>\n",
       "      <td>co_assay</td>\n",
       "      <td>A549</td>\n",
       "      <td>coassay</td>\n",
       "      <td>3.0</td>\n",
       "    </tr>\n",
       "    <tr>\n",
       "      <th>sci-RNA-A-071.TTGCAGCATT</th>\n",
       "      <td>Human</td>\n",
       "      <td>A549_1h</td>\n",
       "      <td>co_assay</td>\n",
       "      <td>A549</td>\n",
       "      <td>coassay</td>\n",
       "      <td>1.0</td>\n",
       "    </tr>\n",
       "    <tr>\n",
       "      <th>sci-RNA-A-071.GCCTGATATA</th>\n",
       "      <td>Mouse</td>\n",
       "      <td>293T_3T3</td>\n",
       "      <td>co_assay</td>\n",
       "      <td>3T3</td>\n",
       "      <td>coassay</td>\n",
       "      <td>NaN</td>\n",
       "    </tr>\n",
       "    <tr>\n",
       "      <th>sci-RNA-A-071.GCGGCCAATC</th>\n",
       "      <td>Human</td>\n",
       "      <td>A549_3h</td>\n",
       "      <td>co_assay</td>\n",
       "      <td>A549</td>\n",
       "      <td>coassay</td>\n",
       "      <td>3.0</td>\n",
       "    </tr>\n",
       "  </tbody>\n",
       "</table>\n",
       "</div>"
      ],
      "text/plain": [
       "                         source     group experiment cell_name experiment  \\\n",
       "sample                                                                      \n",
       "sci-RNA-A-071.AGGTCTATGG  Mouse  293T_3T3   co_assay       3T3    coassay   \n",
       "sci-RNA-A-071.GCGGAGTCGA  Human   A549_3h   co_assay      A549    coassay   \n",
       "sci-RNA-A-071.TTGCAGCATT  Human   A549_1h   co_assay      A549    coassay   \n",
       "sci-RNA-A-071.GCCTGATATA  Mouse  293T_3T3   co_assay       3T3    coassay   \n",
       "sci-RNA-A-071.GCGGCCAATC  Human   A549_3h   co_assay      A549    coassay   \n",
       "\n",
       "                          treatment_time  \n",
       "sample                                    \n",
       "sci-RNA-A-071.AGGTCTATGG             NaN  \n",
       "sci-RNA-A-071.GCGGAGTCGA             3.0  \n",
       "sci-RNA-A-071.TTGCAGCATT             1.0  \n",
       "sci-RNA-A-071.GCCTGATATA             NaN  \n",
       "sci-RNA-A-071.GCGGCCAATC             3.0  "
      ]
     },
     "execution_count": 40,
     "metadata": {},
     "output_type": "execute_result"
    }
   ],
   "source": [
    "raw_atac_cell_info = pd.read_csv('tar_file/GSM3271041_ATAC_sciCAR_A549_cell.txt.gz', index_col=0)\n",
    "raw_rna_cell_info = pd.read_csv('tar_file/GSM3271040_RNA_sciCAR_A549_cell.txt.gz', index_col=0)\n",
    "\n",
    "original_info = pd.concat([raw_atac_cell_info, raw_rna_cell_info],\n",
    "                          axis=1, join='inner')\n",
    "original_info.head()"
   ]
  },
  {
   "cell_type": "code",
   "execution_count": 41,
   "metadata": {},
   "outputs": [
    {
     "data": {
      "text/html": [
       "<div>\n",
       "<style scoped>\n",
       "    .dataframe tbody tr th:only-of-type {\n",
       "        vertical-align: middle;\n",
       "    }\n",
       "\n",
       "    .dataframe tbody tr th {\n",
       "        vertical-align: top;\n",
       "    }\n",
       "\n",
       "    .dataframe thead th {\n",
       "        text-align: right;\n",
       "    }\n",
       "</style>\n",
       "<table border=\"1\" class=\"dataframe\">\n",
       "  <thead>\n",
       "    <tr style=\"text-align: right;\">\n",
       "      <th></th>\n",
       "      <th>source</th>\n",
       "      <th>group</th>\n",
       "      <th>experiment</th>\n",
       "      <th>cell_name</th>\n",
       "      <th>experiment</th>\n",
       "      <th>treatment_time</th>\n",
       "    </tr>\n",
       "    <tr>\n",
       "      <th>sample</th>\n",
       "      <th></th>\n",
       "      <th></th>\n",
       "      <th></th>\n",
       "      <th></th>\n",
       "      <th></th>\n",
       "      <th></th>\n",
       "    </tr>\n",
       "  </thead>\n",
       "  <tbody>\n",
       "    <tr>\n",
       "      <th>sci-RNA-A-071.AGGTCTATGG</th>\n",
       "      <td>Mouse</td>\n",
       "      <td>293T_3T3</td>\n",
       "      <td>co_assay</td>\n",
       "      <td>3T3</td>\n",
       "      <td>coassay</td>\n",
       "      <td>NaN</td>\n",
       "    </tr>\n",
       "    <tr>\n",
       "      <th>sci-RNA-A-071.GCCTGATATA</th>\n",
       "      <td>Mouse</td>\n",
       "      <td>293T_3T3</td>\n",
       "      <td>co_assay</td>\n",
       "      <td>3T3</td>\n",
       "      <td>coassay</td>\n",
       "      <td>NaN</td>\n",
       "    </tr>\n",
       "    <tr>\n",
       "      <th>sci-RNA-A-071.AATACCAGTT</th>\n",
       "      <td>Mouse</td>\n",
       "      <td>293T_3T3</td>\n",
       "      <td>co_assay</td>\n",
       "      <td>3T3</td>\n",
       "      <td>coassay</td>\n",
       "      <td>NaN</td>\n",
       "    </tr>\n",
       "    <tr>\n",
       "      <th>sci-RNA-A-071.GTAGATCGTT</th>\n",
       "      <td>Mouse</td>\n",
       "      <td>293T_3T3</td>\n",
       "      <td>co_assay</td>\n",
       "      <td>3T3</td>\n",
       "      <td>coassay</td>\n",
       "      <td>NaN</td>\n",
       "    </tr>\n",
       "    <tr>\n",
       "      <th>sci-RNA-A-023.TCTGACGAGG</th>\n",
       "      <td>Mouse</td>\n",
       "      <td>293T_3T3</td>\n",
       "      <td>co_assay</td>\n",
       "      <td>3T3</td>\n",
       "      <td>coassay</td>\n",
       "      <td>NaN</td>\n",
       "    </tr>\n",
       "    <tr>\n",
       "      <th>...</th>\n",
       "      <td>...</td>\n",
       "      <td>...</td>\n",
       "      <td>...</td>\n",
       "      <td>...</td>\n",
       "      <td>...</td>\n",
       "      <td>...</td>\n",
       "    </tr>\n",
       "    <tr>\n",
       "      <th>sci-RNA-E-070.GAATGAGGAG</th>\n",
       "      <td>Mouse</td>\n",
       "      <td>293T_3T3</td>\n",
       "      <td>co_assay</td>\n",
       "      <td>3T3</td>\n",
       "      <td>coassay</td>\n",
       "      <td>NaN</td>\n",
       "    </tr>\n",
       "    <tr>\n",
       "      <th>sci-RNA-E-022.AGGCCGGTAA</th>\n",
       "      <td>Mouse</td>\n",
       "      <td>293T_3T3</td>\n",
       "      <td>co_assay</td>\n",
       "      <td>3T3</td>\n",
       "      <td>coassay</td>\n",
       "      <td>NaN</td>\n",
       "    </tr>\n",
       "    <tr>\n",
       "      <th>sci-RNA-E-022.CGAAGGCATG</th>\n",
       "      <td>Mouse</td>\n",
       "      <td>293T_3T3</td>\n",
       "      <td>co_assay</td>\n",
       "      <td>3T3</td>\n",
       "      <td>coassay</td>\n",
       "      <td>NaN</td>\n",
       "    </tr>\n",
       "    <tr>\n",
       "      <th>sci-RNA-E-022.TCTGACGAGG</th>\n",
       "      <td>Mouse</td>\n",
       "      <td>293T_3T3</td>\n",
       "      <td>co_assay</td>\n",
       "      <td>3T3</td>\n",
       "      <td>coassay</td>\n",
       "      <td>NaN</td>\n",
       "    </tr>\n",
       "    <tr>\n",
       "      <th>sci-RNA-E-022.TCGGCGTCGT</th>\n",
       "      <td>Mouse</td>\n",
       "      <td>293T_3T3</td>\n",
       "      <td>co_assay</td>\n",
       "      <td>3T3</td>\n",
       "      <td>coassay</td>\n",
       "      <td>NaN</td>\n",
       "    </tr>\n",
       "  </tbody>\n",
       "</table>\n",
       "<p>711 rows × 6 columns</p>\n",
       "</div>"
      ],
      "text/plain": [
       "                         source     group experiment cell_name experiment  \\\n",
       "sample                                                                      \n",
       "sci-RNA-A-071.AGGTCTATGG  Mouse  293T_3T3   co_assay       3T3    coassay   \n",
       "sci-RNA-A-071.GCCTGATATA  Mouse  293T_3T3   co_assay       3T3    coassay   \n",
       "sci-RNA-A-071.AATACCAGTT  Mouse  293T_3T3   co_assay       3T3    coassay   \n",
       "sci-RNA-A-071.GTAGATCGTT  Mouse  293T_3T3   co_assay       3T3    coassay   \n",
       "sci-RNA-A-023.TCTGACGAGG  Mouse  293T_3T3   co_assay       3T3    coassay   \n",
       "...                         ...       ...        ...       ...        ...   \n",
       "sci-RNA-E-070.GAATGAGGAG  Mouse  293T_3T3   co_assay       3T3    coassay   \n",
       "sci-RNA-E-022.AGGCCGGTAA  Mouse  293T_3T3   co_assay       3T3    coassay   \n",
       "sci-RNA-E-022.CGAAGGCATG  Mouse  293T_3T3   co_assay       3T3    coassay   \n",
       "sci-RNA-E-022.TCTGACGAGG  Mouse  293T_3T3   co_assay       3T3    coassay   \n",
       "sci-RNA-E-022.TCGGCGTCGT  Mouse  293T_3T3   co_assay       3T3    coassay   \n",
       "\n",
       "                          treatment_time  \n",
       "sample                                    \n",
       "sci-RNA-A-071.AGGTCTATGG             NaN  \n",
       "sci-RNA-A-071.GCCTGATATA             NaN  \n",
       "sci-RNA-A-071.AATACCAGTT             NaN  \n",
       "sci-RNA-A-071.GTAGATCGTT             NaN  \n",
       "sci-RNA-A-023.TCTGACGAGG             NaN  \n",
       "...                                  ...  \n",
       "sci-RNA-E-070.GAATGAGGAG             NaN  \n",
       "sci-RNA-E-022.AGGCCGGTAA             NaN  \n",
       "sci-RNA-E-022.CGAAGGCATG             NaN  \n",
       "sci-RNA-E-022.TCTGACGAGG             NaN  \n",
       "sci-RNA-E-022.TCGGCGTCGT             NaN  \n",
       "\n",
       "[711 rows x 6 columns]"
      ]
     },
     "execution_count": 41,
     "metadata": {},
     "output_type": "execute_result"
    }
   ],
   "source": [
    "nih_cells = original_info.query('cell_name == \"3T3\"')\n",
    "nih_cells"
   ]
  },
  {
   "cell_type": "code",
   "execution_count": 42,
   "metadata": {},
   "outputs": [],
   "source": [
    "raw_atac_mtx = mmread('ATAC/raw/matrix.mtx')\n",
    "raw_rna_mtx = mmread('RNA/raw/matrix.mtx')\n",
    "\n",
    "raw_atac = pd.DataFrame(data=raw_atac_mtx.toarray(), columns=raw_atac_cell_info.index)\n",
    "raw_rna = pd.DataFrame(data=raw_rna_mtx.toarray(), columns=raw_rna_cell_info.index)"
   ]
  },
  {
   "cell_type": "code",
   "execution_count": 43,
   "metadata": {},
   "outputs": [],
   "source": [
    "nih_atac = raw_atac.loc[:, nih_cells.index]\n",
    "nih_rna = raw_rna.loc[:, nih_cells.index]"
   ]
  },
  {
   "cell_type": "code",
   "execution_count": 45,
   "metadata": {},
   "outputs": [],
   "source": [
    "!mkdir -p NIH3T3/ATAC/filtered NIH3T3/RNA/filtered\n",
    "\n",
    "for i,j in zip(['NIH3T3/ATAC/filtered', 'NIH3T3/RNA/filtered'],\n",
    "               [nih_atac, nih_rna]):\n",
    "    out = pd.concat([j.sum(0), (j > 0).sum(0)], axis=1)\n",
    "    out.columns = ['nCounts', 'nFeatures']\n",
    "    out.to_csv('%s/metrics.csv' % i, index_label='cell')"
   ]
  },
  {
   "cell_type": "code",
   "execution_count": null,
   "metadata": {},
   "outputs": [],
   "source": []
  }
 ],
 "metadata": {
  "kernelspec": {
   "display_name": "Python 3 (ipykernel)",
   "language": "python",
   "name": "python3"
  },
  "language_info": {
   "codemirror_mode": {
    "name": "ipython",
    "version": 3
   },
   "file_extension": ".py",
   "mimetype": "text/x-python",
   "name": "python",
   "nbconvert_exporter": "python",
   "pygments_lexer": "ipython3",
   "version": "3.9.7"
  }
 },
 "nbformat": 4,
 "nbformat_minor": 4
}
